{
  "nbformat": 4,
  "nbformat_minor": 0,
  "metadata": {
    "colab": {
      "provenance": []
    },
    "kernelspec": {
      "name": "python3",
      "display_name": "Python 3"
    },
    "language_info": {
      "name": "python"
    }
  },
  "cells": [
    {
      "cell_type": "code",
      "execution_count": null,
      "metadata": {
        "colab": {
          "base_uri": "https://localhost:8080/"
        },
        "id": "LmuGDZl9PngT",
        "outputId": "85fe9b5a-5bcb-4899-b262-332f036a233f"
      },
      "outputs": [
        {
          "output_type": "stream",
          "name": "stdout",
          "text": [
            "Collecting vaderSentiment\n",
            "  Downloading vaderSentiment-3.3.2-py2.py3-none-any.whl.metadata (572 bytes)\n",
            "Requirement already satisfied: requests in /usr/local/lib/python3.11/dist-packages (from vaderSentiment) (2.32.3)\n",
            "Requirement already satisfied: charset-normalizer<4,>=2 in /usr/local/lib/python3.11/dist-packages (from requests->vaderSentiment) (3.4.1)\n",
            "Requirement already satisfied: idna<4,>=2.5 in /usr/local/lib/python3.11/dist-packages (from requests->vaderSentiment) (3.10)\n",
            "Requirement already satisfied: urllib3<3,>=1.21.1 in /usr/local/lib/python3.11/dist-packages (from requests->vaderSentiment) (2.3.0)\n",
            "Requirement already satisfied: certifi>=2017.4.17 in /usr/local/lib/python3.11/dist-packages (from requests->vaderSentiment) (2025.1.31)\n",
            "Downloading vaderSentiment-3.3.2-py2.py3-none-any.whl (125 kB)\n",
            "\u001b[?25l   \u001b[90m━━━━━━━━━━━━━━━━━━━━━━━━━━━━━━━━━━━━━━━━\u001b[0m \u001b[32m0.0/126.0 kB\u001b[0m \u001b[31m?\u001b[0m eta \u001b[36m-:--:--\u001b[0m\r\u001b[2K   \u001b[91m━━━━━━━━━━━━━━━━━━━━━━━━━━━━━━━━━━━━━━━\u001b[0m\u001b[90m╺\u001b[0m \u001b[32m122.9/126.0 kB\u001b[0m \u001b[31m5.3 MB/s\u001b[0m eta \u001b[36m0:00:01\u001b[0m\r\u001b[2K   \u001b[90m━━━━━━━━━━━━━━━━━━━━━━━━━━━━━━━━━━━━━━━━\u001b[0m \u001b[32m126.0/126.0 kB\u001b[0m \u001b[31m2.9 MB/s\u001b[0m eta \u001b[36m0:00:00\u001b[0m\n",
            "\u001b[?25hInstalling collected packages: vaderSentiment\n",
            "Successfully installed vaderSentiment-3.3.2\n"
          ]
        }
      ],
      "source": [
        "pip install vaderSentiment"
      ]
    },
    {
      "cell_type": "code",
      "source": [
        "# Import SentimentIntensityAnalyzer class from vaderSentiment module\n",
        "from vaderSentiment.vaderSentiment import SentimentIntensityAnalyzer\n",
        "\n",
        "# Function to print sentiments of the sentence.\n",
        "def sentiment_scores(sentence):\n",
        "\n",
        "    # Create a SentimentIntensityAnalyzer object.\n",
        "    sid_obj = SentimentIntensityAnalyzer()\n",
        "\n",
        "    # polarity_scores method of SentimentIntensityAnalyzer\n",
        "    # object gives a sentiment dictionary which contains\n",
        "    # pos, neg, neu, and compound scores.\n",
        "    sentiment_dict = sid_obj.polarity_scores(sentence)\n",
        "\n",
        "    print(\"Overall sentiment dictionary is : \", sentiment_dict)\n",
        "    print(\"Sentence was rated as \", sentiment_dict['neg']*100, \"% Negative\")\n",
        "    print(\"Sentence was rated as \", sentiment_dict['neu']*100, \"% Neutral\")\n",
        "    print(\"Sentence was rated as \", sentiment_dict['pos']*100, \"% Positive\")\n",
        "\n",
        "    print(\"Sentence Overall Rated As\", end = \" \")\n",
        "\n",
        "    # Decide sentiment as positive, negative or neutral\n",
        "    if sentiment_dict['compound'] >= 0.05:\n",
        "        print(\"Positive\")\n",
        "\n",
        "    elif sentiment_dict['compound'] <= -0.05:\n",
        "        print(\"Negative\")\n",
        "\n",
        "    else:\n",
        "        print(\"Neutral\")\n",
        "\n",
        "\n",
        "# Driver code\n",
        "if __name__ == \"__main__\":\n",
        "\n",
        "    print(\"\\n1st Statement :\")\n",
        "    sentence = \"The project has been delayed due to unforeseen issues. While the team is working hard to overcome these challenges, there is still a sense of uncertainty about the final outcome. Some team members are frustrated with the pace of progress.\"\n",
        "\n",
        "    # Function calling\n",
        "    sentiment_scores(sentence)\n",
        "\n",
        "    print(\"\\n2nd Statement :\")\n",
        "    sentence = \"The vacation was absolutely wonderful! The weather was perfect, the scenery was breathtaking, and the activities were so much fun. I can't wait to go back next year!\"\n",
        "\n",
        "    # Function calling\n",
        "    sentiment_scores(sentence)\n",
        "\n",
        "    print(\"\\n3rd Statement :\")\n",
        "    sentence = \"It's been a tough week at work. The deadlines are tight, and the workload seems never-ending. Everyone is feeling a bit overwhelmed, but we're pushing through it together.\"\n",
        "\n",
        "    # Function calling\n",
        "    sentiment_scores(sentence)\n"
      ],
      "metadata": {
        "colab": {
          "base_uri": "https://localhost:8080/"
        },
        "id": "CcOhtUEHQGP8",
        "outputId": "7b1144c5-f36a-44f4-997b-787781e7c8f7"
      },
      "execution_count": null,
      "outputs": [
        {
          "output_type": "stream",
          "name": "stdout",
          "text": [
            "\n",
            "1st Statement :\n",
            "Overall sentiment dictionary is :  {'neg': 0.193, 'neu': 0.72, 'pos': 0.087, 'compound': -0.6124}\n",
            "Sentence was rated as  19.3 % Negative\n",
            "Sentence was rated as  72.0 % Neutral\n",
            "Sentence was rated as  8.7 % Positive\n",
            "Sentence Overall Rated As Negative\n",
            "\n",
            "2nd Statement :\n",
            "Overall sentiment dictionary is :  {'neg': 0.0, 'neu': 0.618, 'pos': 0.382, 'compound': 0.9418}\n",
            "Sentence was rated as  0.0 % Negative\n",
            "Sentence was rated as  61.8 % Neutral\n",
            "Sentence was rated as  38.2 % Positive\n",
            "Sentence Overall Rated As Positive\n",
            "\n",
            "3rd Statement :\n",
            "Overall sentiment dictionary is :  {'neg': 0.044, 'neu': 0.874, 'pos': 0.082, 'compound': 0.0258}\n",
            "Sentence was rated as  4.3999999999999995 % Negative\n",
            "Sentence was rated as  87.4 % Neutral\n",
            "Sentence was rated as  8.200000000000001 % Positive\n",
            "Sentence Overall Rated As Neutral\n"
          ]
        }
      ]
    }
  ]
}